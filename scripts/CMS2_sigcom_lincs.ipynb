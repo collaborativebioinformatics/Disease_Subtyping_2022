{
 "cells": [
  {
   "cell_type": "code",
   "execution_count": 2,
   "id": "5375ee6d",
   "metadata": {},
   "outputs": [],
   "source": [
    "import pandas as pd\n",
    "import requests\n",
    "import json"
   ]
  },
  {
   "cell_type": "code",
   "execution_count": 10,
   "id": "1f3f7f42",
   "metadata": {},
   "outputs": [
    {
     "name": "stdout",
     "output_type": "stream",
     "text": [
      "{\n",
      "  \"up_entities\": [\n",
      "    \"e5e7afca-258d-48ef-af79-26d749997291\",\n",
      "    \"86324105-c420-4b92-9588-2aa2e6b50c19\",\n",
      "    \"a5a07ec6-3dfc-464d-af32-5d74fb9c605f\",\n",
      "    \"915f4ef6-647d-4bbb-af36-d2dc4f288f5b\",\n",
      "    \"8a2763c8-2000-401e-b5ff-26f2b8677b3c\",\n",
      "    \"9aec11dc-5988-4f0e-9b26-58de33bebdaf\",\n",
      "    \"fe905f3c-6019-490b-a32f-02165a1c3977\"\n",
      "  ],\n",
      "  \"down_entities\": [\n",
      "    \"3972b992-34f3-4c13-8744-95b000f0e357\",\n",
      "    \"d40f2eac-a8cb-4c2e-8f7a-605e8f4658ef\",\n",
      "    \"c2c4164a-3797-4221-a26a-8737250eface\",\n",
      "    \"25e69f15-6eb0-4f0e-8bea-9b94355ffea0\",\n",
      "    \"ed6bb86b-0691-4776-aee3-24eef7c42219\",\n",
      "    \"a8d75668-8ed2-4682-aa3d-2a262515be9f\"\n",
      "  ]\n",
      "}\n"
     ]
    }
   ],
   "source": [
    "METADATA_API = \"https://maayanlab.cloud/sigcom-lincs/metadata-api/\"\n",
    "DATA_API = \"https://maayanlab.cloud/sigcom-lincs/data-api/api/v1/\"\n",
    "\n",
    "input_gene_set = {\n",
    "#     # CMS2 colotype\n",
    "#     \"up_genes\": [\"POFUT1\", \"QPRT\", \"PLAGL2\", \"TP53RK\", \"CEL\", \"DDX27\"],\n",
    "#     \"down_genes\": [\"LYZ\", \"TRIB2\", \"DUSP4\", \"FSCN1\", \"IKZF4\"]\n",
    "    \n",
    "    # CMS2 colotype + GALNT12 + APC\n",
    "    \"up_genes\": [\"POFUT1\", \"QPRT\", \"PLAGL2\", \"TP53RK\", \"CEL\", \"DDX27\", 'GALNT12'],\n",
    "    \"down_genes\": [\"LYZ\", \"TRIB2\", \"DUSP4\", \"FSCN1\", \"IKZF4\", 'APC']\n",
    "    \n",
    "#     # CMS2 colotype + APC\n",
    "#     \"up_genes\": [\"POFUT1\", \"QPRT\", \"PLAGL2\", \"TP53RK\", \"CEL\", \"DDX27\"],\n",
    "#     \"down_genes\": [\"LYZ\", \"TRIB2\", \"DUSP4\", \"FSCN1\", \"IKZF4\", 'APC']\n",
    "}\n",
    "\n",
    "all_genes = input_gene_set[\"up_genes\"] + input_gene_set[\"down_genes\"]\n",
    "\n",
    "payload = {\n",
    "    \"filter\": {\n",
    "        \"where\": {\n",
    "            \"meta.symbol\": {\n",
    "                \"inq\": all_genes\n",
    "            }\n",
    "        },\n",
    "        \"fields\": [\"id\", \"meta.symbol\"]\n",
    "    }\n",
    "}\n",
    "res = requests.post(METADATA_API + \"entities/find\", json=payload)\n",
    "entities = res.json()\n",
    "\n",
    "for_enrichment = {\n",
    "    \"up_entities\": [],\n",
    "    \"down_entities\": []\n",
    "}\n",
    "\n",
    "for e in entities:\n",
    "    symbol = e[\"meta\"][\"symbol\"]\n",
    "    if symbol in input_gene_set[\"up_genes\"]:\n",
    "        for_enrichment[\"up_entities\"].append(e[\"id\"])\n",
    "    elif symbol in input_gene_set[\"down_genes\"]:\n",
    "        for_enrichment[\"down_entities\"].append(e[\"id\"])\n",
    "\n",
    "print(json.dumps(for_enrichment, indent=2))"
   ]
  },
  {
   "cell_type": "code",
   "execution_count": 9,
   "id": "36a25d45",
   "metadata": {},
   "outputs": [
    {
     "name": "stdout",
     "output_type": "stream",
     "text": [
      "Access your analysis here: https://maayanlab.cloud/sigcom-lincs#/SignatureSearch/Rank/4b040547-0142-5bbf-a461-c9aecf2c3b74\n"
     ]
    }
   ],
   "source": [
    "payload = {\n",
    "    \"meta\": {\n",
    "        \"$validator\": \"/dcic/signature-commons-schema/v6/meta/user_input/user_input.json\",\n",
    "        **for_enrichment\n",
    "    },\n",
    "    \"type\": \"signature\"\n",
    "}\n",
    "res = requests.post(METADATA_API + \"user_input\", json=payload)\n",
    "persistent_id = res.json()[\"id\"]\n",
    "print(\"Access your analysis here: https://maayanlab.cloud/sigcom-lincs#/SignatureSearch/Rank/%s\"%persistent_id)"
   ]
  }
 ],
 "metadata": {
  "kernelspec": {
   "display_name": "Python 3",
   "language": "python",
   "name": "python3"
  },
  "language_info": {
   "codemirror_mode": {
    "name": "ipython",
    "version": 3
   },
   "file_extension": ".py",
   "mimetype": "text/x-python",
   "name": "python",
   "nbconvert_exporter": "python",
   "pygments_lexer": "ipython3",
   "version": "3.6.5"
  }
 },
 "nbformat": 4,
 "nbformat_minor": 5
}
