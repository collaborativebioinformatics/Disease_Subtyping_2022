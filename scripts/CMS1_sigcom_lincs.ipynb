{
 "cells": [
  {
   "cell_type": "code",
   "execution_count": 1,
   "id": "e538f657",
   "metadata": {},
   "outputs": [],
   "source": [
    "import pandas as pd\n",
    "import requests\n",
    "import json"
   ]
  },
  {
   "cell_type": "code",
   "execution_count": 13,
   "id": "31555582",
   "metadata": {},
   "outputs": [
    {
     "name": "stdout",
     "output_type": "stream",
     "text": [
      "{\n",
      "  \"up_entities\": [\n",
      "    \"0f8b2b5b-b0c7-5405-aca7-c5a016389e87\",\n",
      "    \"a5a07ec6-3dfc-464d-af32-5d74fb9c605f\",\n",
      "    \"413d4bda-ea73-4741-b8f2-9fdf9af21d70\",\n",
      "    \"f4cf4c9f-5ec3-4d34-b103-4f32dc125865\",\n",
      "    \"86a70db1-95c0-480b-9648-19b3fe3efb97\"\n",
      "  ],\n",
      "  \"down_entities\": [\n",
      "    \"d2b49e7b-d6a4-48d2-9d10-137650b71a89\",\n",
      "    \"faefdf14-7ead-4a45-8d1d-65b48ea42b0b\",\n",
      "    \"22ddb9d0-8ad1-4969-a364-23b7d0dc5750\",\n",
      "    \"ca3299b0-a723-5f0d-ad57-d78820306419\",\n",
      "    \"0fec77c0-6e66-4edd-a256-5fb746ae513a\",\n",
      "    \"3b4068e2-4753-4575-b046-ae32501b5568\",\n",
      "    \"fac29628-8e8f-4949-ae79-fdba9caf9b8f\"\n",
      "  ]\n",
      "}\n"
     ]
    }
   ],
   "source": [
    "METADATA_API = \"https://maayanlab.cloud/sigcom-lincs/metadata-api/\"\n",
    "DATA_API = \"https://maayanlab.cloud/sigcom-lincs/data-api/api/v1/\"\n",
    "\n",
    "input_gene_set = {\n",
    "#     # CMS1 colotype\n",
    "#     \"up_genes\": [\"ASPHD2\", \"WARS\", \"HPSE\", \"GNLY\"],\n",
    "#     \"down_genes\": [\"AXIN2\", \"SEMA5A\", \"CDHR1\", \"CTTNBP2\", \"ATP9A\", \"DACH1\"]\n",
    "    \n",
    "#     # CMS1 colotype + MLH1\n",
    "#     \"up_genes\": [\"ASPHD2\", \"WARS\", \"HPSE\", \"GNLY\"],\n",
    "#     \"down_genes\": [\"AXIN2\", \"SEMA5A\", \"CDHR1\", \"CTTNBP2\", \"ATP9A\", \"DACH1\", 'MLH1']\n",
    "    \n",
    "    # CMS1 colotype + GALNT12 + MLH1\n",
    "    \"up_genes\": [\"ASPHD2\", \"WARS\", \"HPSE\", \"GNLY\", 'GALNT12'],\n",
    "    \"down_genes\": [\"AXIN2\", \"SEMA5A\", \"CDHR1\", \"CTTNBP2\", \"ATP9A\", \"DACH1\", 'MLH1']\n",
    "\n",
    "}\n",
    "\n",
    "all_genes = input_gene_set[\"up_genes\"] + input_gene_set[\"down_genes\"]\n",
    "\n",
    "payload = {\n",
    "    \"filter\": {\n",
    "        \"where\": {\n",
    "            \"meta.symbol\": {\n",
    "                \"inq\": all_genes\n",
    "            }\n",
    "        },\n",
    "        \"fields\": [\"id\", \"meta.symbol\"]\n",
    "    }\n",
    "}\n",
    "res = requests.post(METADATA_API + \"entities/find\", json=payload)\n",
    "entities = res.json()\n",
    "\n",
    "for_enrichment = {\n",
    "    \"up_entities\": [],\n",
    "    \"down_entities\": []\n",
    "}\n",
    "\n",
    "for e in entities:\n",
    "    symbol = e[\"meta\"][\"symbol\"]\n",
    "    if symbol in input_gene_set[\"up_genes\"]:\n",
    "        for_enrichment[\"up_entities\"].append(e[\"id\"])\n",
    "    elif symbol in input_gene_set[\"down_genes\"]:\n",
    "        for_enrichment[\"down_entities\"].append(e[\"id\"])\n",
    "\n",
    "print(json.dumps(for_enrichment, indent=2))"
   ]
  },
  {
   "cell_type": "code",
   "execution_count": 14,
   "id": "02cf5931",
   "metadata": {},
   "outputs": [
    {
     "name": "stdout",
     "output_type": "stream",
     "text": [
      "Access your analysis here: https://maayanlab.cloud/sigcom-lincs#/SignatureSearch/Rank/a5984f59-ffed-5689-84c1-ecb5132defd0\n"
     ]
    }
   ],
   "source": [
    "payload = {\n",
    "    \"meta\": {\n",
    "        \"$validator\": \"/dcic/signature-commons-schema/v6/meta/user_input/user_input.json\",\n",
    "        **for_enrichment\n",
    "    },\n",
    "    \"type\": \"signature\"\n",
    "}\n",
    "res = requests.post(METADATA_API + \"user_input\", json=payload)\n",
    "persistent_id = res.json()[\"id\"]\n",
    "print(\"Access your analysis here: https://maayanlab.cloud/sigcom-lincs#/SignatureSearch/Rank/%s\"%persistent_id)"
   ]
  }
 ],
 "metadata": {
  "kernelspec": {
   "display_name": "Python 3",
   "language": "python",
   "name": "python3"
  },
  "language_info": {
   "codemirror_mode": {
    "name": "ipython",
    "version": 3
   },
   "file_extension": ".py",
   "mimetype": "text/x-python",
   "name": "python",
   "nbconvert_exporter": "python",
   "pygments_lexer": "ipython3",
   "version": "3.6.5"
  }
 },
 "nbformat": 4,
 "nbformat_minor": 5
}
