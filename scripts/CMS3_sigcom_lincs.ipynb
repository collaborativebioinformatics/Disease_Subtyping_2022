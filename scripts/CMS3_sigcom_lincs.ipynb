{
 "cells": [
  {
   "cell_type": "code",
   "execution_count": 2,
   "id": "895c703f",
   "metadata": {},
   "outputs": [],
   "source": [
    "import pandas as pd\n",
    "import requests\n",
    "import json"
   ]
  },
  {
   "cell_type": "code",
   "execution_count": 10,
   "id": "8c514b28",
   "metadata": {},
   "outputs": [
    {
     "name": "stdout",
     "output_type": "stream",
     "text": [
      "{\n",
      "  \"up_entities\": [\n",
      "    \"d8d54ae9-ffb7-4e8b-883f-f26ccb810927\",\n",
      "    \"91223623-7063-4424-b7f6-15b7b89bcf89\",\n",
      "    \"0f42c603-c167-48bf-b847-e9e82bbf5f75\",\n",
      "    \"a5a07ec6-3dfc-464d-af32-5d74fb9c605f\",\n",
      "    \"ef2cfbe2-b580-52d0-a4b6-0c10671a5b15\",\n",
      "    \"cbec4707-40a8-4e6d-9d3c-bcdc1f5e2b97\"\n",
      "  ],\n",
      "  \"down_entities\": [\n",
      "    \"624778e8-5e87-43c0-acda-7e8e9fbf73d8\",\n",
      "    \"2ce7dc09-d2d8-44a3-950d-98b527ef182f\",\n",
      "    \"ca89292a-524f-40fd-bff1-1f544a7f411c\",\n",
      "    \"9322b2bb-0917-44ec-b5d7-965edfa3ceb8\",\n",
      "    \"86e2d176-19ec-40c3-ae0f-77e014fbb5ae\"\n",
      "  ]\n",
      "}\n"
     ]
    }
   ],
   "source": [
    "METADATA_API = \"https://maayanlab.cloud/sigcom-lincs/metadata-api/\"\n",
    "DATA_API = \"https://maayanlab.cloud/sigcom-lincs/data-api/api/v1/\"\n",
    "\n",
    "input_gene_set = {\n",
    "#     # CMS3 colotype\n",
    "#     \"up_genes\": [\"CAPN9\", \"B3GNT6\", \"FCGBP\", \"RASD1\", \"ASRGL1\", \"SPINK4\"],\n",
    "#     \"down_genes\": [\"TIMP3\", \"VAV2\", \"RBMS1\", \"FBN1\", \"TBX10\"]\n",
    "    \n",
    "#     # CMS3 colotype + GALNT12 + MLH1 \n",
    "#     \"up_genes\": [\"CAPN9\", \"B3GNT6\", \"FCGBP\", \"RASD1\", \"ASRGL1\", \"SPINK4\", 'GALNT12'],\n",
    "#     \"down_genes\": [\"TIMP3\", \"VAV2\", \"RBMS1\", \"FBN1\", \"TBX10\", 'MLH1']\n",
    "    \n",
    "    # CMS3 colotype + GALNT12\n",
    "    \"up_genes\": [\"CAPN9\", \"B3GNT6\", \"FCGBP\", \"RASD1\", \"ASRGL1\", \"SPINK4\", 'GALNT12'],\n",
    "    \"down_genes\": [\"TIMP3\", \"VAV2\", \"RBMS1\", \"FBN1\", \"TBX10\",]\n",
    "}\n",
    "\n",
    "all_genes = input_gene_set[\"up_genes\"] + input_gene_set[\"down_genes\"]\n",
    "\n",
    "payload = {\n",
    "    \"filter\": {\n",
    "        \"where\": {\n",
    "            \"meta.symbol\": {\n",
    "                \"inq\": all_genes\n",
    "            }\n",
    "        },\n",
    "        \"fields\": [\"id\", \"meta.symbol\"]\n",
    "    }\n",
    "}\n",
    "res = requests.post(METADATA_API + \"entities/find\", json=payload)\n",
    "entities = res.json()\n",
    "\n",
    "for_enrichment = {\n",
    "    \"up_entities\": [],\n",
    "    \"down_entities\": []\n",
    "}\n",
    "\n",
    "for e in entities:\n",
    "    symbol = e[\"meta\"][\"symbol\"]\n",
    "    if symbol in input_gene_set[\"up_genes\"]:\n",
    "        for_enrichment[\"up_entities\"].append(e[\"id\"])\n",
    "    elif symbol in input_gene_set[\"down_genes\"]:\n",
    "        for_enrichment[\"down_entities\"].append(e[\"id\"])\n",
    "\n",
    "print(json.dumps(for_enrichment, indent=2))"
   ]
  },
  {
   "cell_type": "code",
   "execution_count": 11,
   "id": "ac59d038",
   "metadata": {},
   "outputs": [
    {
     "name": "stdout",
     "output_type": "stream",
     "text": [
      "Access your analysis here: https://maayanlab.cloud/sigcom-lincs#/SignatureSearch/Rank/75da5bfc-6f55-56a4-9d32-322111a6fd9c\n"
     ]
    }
   ],
   "source": [
    "payload = {\n",
    "    \"meta\": {\n",
    "        \"$validator\": \"/dcic/signature-commons-schema/v6/meta/user_input/user_input.json\",\n",
    "        **for_enrichment\n",
    "    },\n",
    "    \"type\": \"signature\"\n",
    "}\n",
    "res = requests.post(METADATA_API + \"user_input\", json=payload)\n",
    "persistent_id = res.json()[\"id\"]\n",
    "print(\"Access your analysis here: https://maayanlab.cloud/sigcom-lincs#/SignatureSearch/Rank/%s\"%persistent_id)"
   ]
  },
  {
   "cell_type": "code",
   "execution_count": null,
   "id": "ed5dbd9a",
   "metadata": {},
   "outputs": [],
   "source": []
  }
 ],
 "metadata": {
  "kernelspec": {
   "display_name": "Python 3",
   "language": "python",
   "name": "python3"
  },
  "language_info": {
   "codemirror_mode": {
    "name": "ipython",
    "version": 3
   },
   "file_extension": ".py",
   "mimetype": "text/x-python",
   "name": "python",
   "nbconvert_exporter": "python",
   "pygments_lexer": "ipython3",
   "version": "3.6.5"
  }
 },
 "nbformat": 4,
 "nbformat_minor": 5
}
